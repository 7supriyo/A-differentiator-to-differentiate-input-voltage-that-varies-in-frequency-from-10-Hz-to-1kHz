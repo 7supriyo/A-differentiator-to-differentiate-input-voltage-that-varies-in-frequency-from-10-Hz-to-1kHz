{
  "nbformat": 4,
  "nbformat_minor": 0,
  "metadata": {
    "colab": {
      "provenance": [],
      "authorship_tag": "ABX9TyP2hmuqQXu8WQeB5okJNOXS",
      "include_colab_link": true
    },
    "kernelspec": {
      "name": "python3",
      "display_name": "Python 3"
    },
    "language_info": {
      "name": "python"
    }
  },
  "cells": [
    {
      "cell_type": "markdown",
      "metadata": {
        "id": "view-in-github",
        "colab_type": "text"
      },
      "source": [
        "<a href=\"https://colab.research.google.com/github/7supriyo/A-differentiator-to-differentiate-input-voltage-that-varies-in-frequency-from-10-Hz-to-1kHz/blob/main/Load_Flow_Analysis_using_Newton_Raphson_Method_py.ipynb\" target=\"_parent\"><img src=\"https://colab.research.google.com/assets/colab-badge.svg\" alt=\"Open In Colab\"/></a>"
      ]
    },
    {
      "cell_type": "markdown",
      "source": [
        "**Load Flow Analysis using Newton-Raphson Method**."
      ],
      "metadata": {
        "id": "ueDIiWRJ_HPz"
      }
    },
    {
      "cell_type": "markdown",
      "source": [
        "Set Up the Power System Data:\n",
        "\n",
        "Bus Data: Includes information about the type of bus, voltage magnitudes, angles, and power injections.\n",
        "Line Data: Contains details about the transmission lines, including impedance and admittance.\n",
        "Example: We could start with a simple 3-bus system."
      ],
      "metadata": {
        "id": "0iAT33Srm0_V"
      }
    },
    {
      "cell_type": "code",
      "execution_count": null,
      "metadata": {
        "id": "DDOIsVD8mcTW"
      },
      "outputs": [],
      "source": [
        "import numpy as np\n",
        "\n",
        "# Define the bus data (Bus Type: 1=Slack, 2=PV, 3=PQ)\n",
        "# Bus  |  Type  | Voltage (initial) | Angle (initial) | P (active power) | Q (reactive power)\n",
        "bus_data = np.array([\n",
        "    [1, 1, 1.06, 0.0, 0.0, 0.0],  # Slack bus\n",
        "    [2, 2, 1.045, 0.0, -0.4, 0.0], # PV bus\n",
        "    [3, 3, 1.01, 0.0, -0.6, -0.2]  # PQ bus\n",
        "])\n",
        "\n",
        "# Line Data: From Bus, To Bus, Admittance (Y = G + jB)\n",
        "line_data = np.array([\n",
        "    [1, 2, 0.02 + 0.04j],\n",
        "    [1, 3, 0.01 + 0.03j],\n",
        "    [2, 3, 0.0125 + 0.025j]\n",
        "])\n"
      ]
    },
    {
      "cell_type": "markdown",
      "source": [
        "Construct the Admittance Matrix (Y-bus):\n",
        "\n",
        "The Y-bus matrix is a crucial element in load flow analysis. It represents the admittance between each pair of buses."
      ],
      "metadata": {
        "id": "SYx3gsoAm4v5"
      }
    },
    {
      "cell_type": "code",
      "source": [
        "def ybus_matrix(bus_data, line_data):\n",
        "    n = len(bus_data)\n",
        "    Ybus = np.zeros((n, n), dtype=complex)\n",
        "\n",
        "    for line in line_data:\n",
        "        i = int(line[0]) - 1\n",
        "        j = int(line[1]) - 1\n",
        "        Ybus[i, j] -= line[2]\n",
        "        Ybus[j, i] -= line[2]\n",
        "        Ybus[i, i] += line[2]\n",
        "        Ybus[j, j] += line[2]\n",
        "\n",
        "    return Ybus\n",
        "\n",
        "Ybus = ybus_matrix(bus_data, line_data)\n",
        "print(\"Y-bus Matrix:\")\n",
        "print(Ybus)\n"
      ],
      "metadata": {
        "colab": {
          "base_uri": "https://localhost:8080/"
        },
        "id": "FMYZNNB1m-DE",
        "outputId": "c73435cb-c04d-46a9-e95f-4ff326cfba09"
      },
      "execution_count": null,
      "outputs": [
        {
          "output_type": "stream",
          "name": "stdout",
          "text": [
            "Y-bus Matrix:\n",
            "[[ 0.03  +0.07j  -0.02  -0.04j  -0.01  -0.03j ]\n",
            " [-0.02  -0.04j   0.0325+0.065j -0.0125-0.025j]\n",
            " [-0.01  -0.03j  -0.0125-0.025j  0.0225+0.055j]]\n"
          ]
        },
        {
          "output_type": "stream",
          "name": "stderr",
          "text": [
            "<ipython-input-12-876fea140164>:6: ComplexWarning: Casting complex values to real discards the imaginary part\n",
            "  i = int(line[0]) - 1\n",
            "<ipython-input-12-876fea140164>:7: ComplexWarning: Casting complex values to real discards the imaginary part\n",
            "  j = int(line[1]) - 1\n"
          ]
        }
      ]
    },
    {
      "cell_type": "markdown",
      "source": [
        "Formulate the Power Flow Equations:\n",
        "\n",
        "For each PQ and PV bus, write down the power balance equations\n",
        "𝑃\n",
        "𝑘\n",
        "P\n",
        "k\n",
        "​\n",
        "  and\n",
        "𝑄\n",
        "𝑘\n",
        "Q\n",
        "k\n",
        "​\n",
        " .\n",
        "Use the relationship between power and voltage:\n",
        "𝑃\n",
        "𝑘\n",
        "=\n",
        "𝑉\n",
        "𝑘\n",
        "∑\n",
        "𝑗\n",
        "=\n",
        "1\n",
        "𝑛\n",
        "∣\n",
        "𝑉\n",
        "𝑗\n",
        "∣\n",
        "(\n",
        "𝐺\n",
        "𝑘\n",
        "𝑗\n",
        "cos\n",
        "⁡\n",
        "(\n",
        "𝜃\n",
        "𝑘\n",
        "−\n",
        "𝜃\n",
        "𝑗\n",
        ")\n",
        "+\n",
        "𝐵\n",
        "𝑘\n",
        "𝑗\n",
        "sin\n",
        "⁡\n",
        "(\n",
        "𝜃\n",
        "𝑘\n",
        "−\n",
        "𝜃\n",
        "𝑗\n",
        ")\n",
        ")\n",
        "P\n",
        "k\n",
        "​\n",
        " =V\n",
        "k\n",
        "​\n",
        "  \n",
        "j=1\n",
        "∑\n",
        "n\n",
        "​\n",
        " ∣V\n",
        "j\n",
        "​\n",
        " ∣(G\n",
        "kj\n",
        "​\n",
        " cos(θ\n",
        "k\n",
        "​\n",
        " −θ\n",
        "j\n",
        "​\n",
        " )+B\n",
        "kj\n",
        "​\n",
        " sin(θ\n",
        "k\n",
        "​\n",
        " −θ\n",
        "j\n",
        "​\n",
        " ))\n",
        "𝑄\n",
        "𝑘\n",
        "=\n",
        "𝑉\n",
        "𝑘\n",
        "∑\n",
        "𝑗\n",
        "=\n",
        "1\n",
        "𝑛\n",
        "∣\n",
        "𝑉\n",
        "𝑗\n",
        "∣\n",
        "(\n",
        "𝐺\n",
        "𝑘\n",
        "𝑗\n",
        "sin\n",
        "⁡\n",
        "(\n",
        "𝜃\n",
        "𝑘\n",
        "−\n",
        "𝜃\n",
        "𝑗\n",
        ")\n",
        "−\n",
        "𝐵\n",
        "𝑘\n",
        "𝑗\n",
        "cos\n",
        "⁡\n",
        "(\n",
        "𝜃\n",
        "𝑘\n",
        "−\n",
        "𝜃\n",
        "𝑗\n",
        ")\n",
        ")\n",
        "Q\n",
        "k\n",
        "​\n",
        " =V\n",
        "k\n",
        "​\n",
        "  \n",
        "j=1\n",
        "∑\n",
        "n\n",
        "​\n",
        " ∣V\n",
        "j\n",
        "​\n",
        " ∣(G\n",
        "kj\n",
        "​\n",
        " sin(θ\n",
        "k\n",
        "​\n",
        " −θ\n",
        "j\n",
        "​\n",
        " )−B\n",
        "kj\n",
        "​\n",
        " cos(θ\n",
        "k\n",
        "​\n",
        " −θ\n",
        "j\n",
        "​\n",
        " ))\n",
        "Implement the Newton-Raphson Iterative Method:\n",
        "\n",
        "Initialize the bus voltages.\n",
        "Construct the Jacobian matrix, which involves partial derivatives of the power equations with respect to the voltage magnitudes and angles.\n",
        "Update the bus voltages iteratively until the power mismatches are within a specified tolerance."
      ],
      "metadata": {
        "id": "944N4V_6nLwc"
      }
    },
    {
      "cell_type": "code",
      "source": [
        "def newton_raphson_load_flow(bus_data, Ybus, tolerance=1e-6, max_iterations=10):\n",
        "    n = len(bus_data)\n",
        "    V = bus_data[:, 2] * np.exp(1j * np.radians(bus_data[:, 3]))  # Initialize voltages\n",
        "\n",
        "    for iteration in range(max_iterations):\n",
        "        P_calculated = np.zeros(n)\n",
        "        Q_calculated = np.zeros(n)\n",
        "\n",
        "        # Calculate Power at each bus\n",
        "        for i in range(n):\n",
        "            for j in range(n):\n",
        "                P_calculated[i] += np.abs(V[i]) * np.abs(V[j]) * \\\n",
        "                                   (Ybus[i, j].real * np.cos(np.angle(V[i]) - np.angle(V[j])) +\n",
        "                                    Ybus[i, j].imag * np.sin(np.angle(V[i]) - np.angle(V[j])))\n",
        "                Q_calculated[i] += np.abs(V[i]) * np.abs(V[j]) * \\\n",
        "                                   (Ybus[i, j].real * np.sin(np.angle(V[i]) - np.angle(V[j])) -\n",
        "                                    Ybus[i, j].imag * np.cos(np.angle(V[i]) - np.angle(V[j])))\n",
        "\n",
        "        # Power mismatches\n",
        "        P_mismatch = bus_data[:, 4] - P_calculated\n",
        "        Q_mismatch = bus_data[:, 5] - Q_calculated\n",
        "\n",
        "        # Check for convergence\n",
        "        if np.max(np.abs(P_mismatch)) < tolerance and np.max(np.abs(Q_mismatch)) < tolerance:\n",
        "            print(f\"Convergence achieved in {iteration} iterations.\")\n",
        "            break\n",
        "\n",
        "        # Calculate Jacobian matrix and perform corrections\n",
        "        # [This section would involve calculating the Jacobian matrix and solving for corrections]\n",
        "        # Update voltage magnitudes and angles\n",
        "        # ...\n",
        "\n",
        "    return V\n",
        "\n",
        "V_final = newton_raphson_load_flow(bus_data, Ybus)\n",
        "print(\"Final Voltages:\")\n",
        "print(V_final)\n"
      ],
      "metadata": {
        "colab": {
          "base_uri": "https://localhost:8080/"
        },
        "id": "iENzBwzrnPmK",
        "outputId": "9888fdc1-dbe1-4c16-ca31-622ad6ecd0f7"
      },
      "execution_count": null,
      "outputs": [
        {
          "output_type": "stream",
          "name": "stdout",
          "text": [
            "Final Voltages:\n",
            "[1.06 +0.j 1.045+0.j 1.01 +0.j]\n"
          ]
        }
      ]
    },
    {
      "cell_type": "markdown",
      "source": [
        "Interpret the Results:\n",
        "\n",
        "Once the iterations converge, the final bus voltages and angles will give you the steady-state operating condition of the power system.\n",
        "Analyze the results by examining the voltage magnitudes and phase angles at each bus.\n",
        "Enhancements and Validation:\n",
        "\n",
        "Test your program on different power system configurations to validate its accuracy.\n",
        "Implement additional features like handling different types of buses (e.g., more PV buses) and larger networks.\n",
        "Visualization (Optional):\n",
        "\n",
        "You can visualize the voltage profiles across the buses using Python’s plotting libraries like Matplotlib."
      ],
      "metadata": {
        "id": "nNbhGtdinW3g"
      }
    },
    {
      "cell_type": "code",
      "source": [
        "import matplotlib.pyplot as plt\n",
        "\n",
        "plt.figure()\n",
        "plt.plot(np.abs(V_final), marker='o', linestyle='-', label='Voltage Magnitudes')\n",
        "plt.xlabel('Bus Number')\n",
        "plt.ylabel('Voltage Magnitude (pu)')\n",
        "plt.title('Voltage Profile')\n",
        "plt.legend()\n",
        "plt.grid()\n",
        "plt.show()\n"
      ],
      "metadata": {
        "colab": {
          "base_uri": "https://localhost:8080/",
          "height": 472
        },
        "id": "0z3Z1_fcnYKG",
        "outputId": "fc759871-9be0-44cb-fc80-63e59b814f5c"
      },
      "execution_count": null,
      "outputs": [
        {
          "output_type": "display_data",
          "data": {
            "text/plain": [
              "<Figure size 640x480 with 1 Axes>"
            ],
            "image/png": "[encoded data removed]"
          },
          "metadata": {}
        }
      ]
    },
    {
      "cell_type": "code",
      "source": [
        "import numpy as np\n",
        "import matplotlib.pyplot as plt\n",
        "\n",
        "# Example final bus voltages (from the Newton-Raphson method)\n",
        "# Replace this with your actual V_final array from your calculations\n",
        "V_final = np.array([1.06, 1.045, 1.01])  # Voltage magnitudes in pu\n",
        "\n",
        "# Labels for the buses\n",
        "bus_labels = ['Bus 1 (Slack)', 'Bus 2 (PV)', 'Bus 3 (PQ)']\n",
        "\n",
        "# Normalize the data to sum to 100 (for percentage-based pie chart)\n",
        "voltage_percentages = (np.abs(V_final) / np.sum(np.abs(V_final))) * 100\n",
        "\n",
        "# Define colors (Matplotlib default colors, or you can customize)\n",
        "colors = plt.cm.viridis(np.linspace(0, 1, len(V_final)))\n",
        "\n",
        "# Plot the pie chart\n",
        "plt.figure(figsize=(6, 6))\n",
        "plt.pie(voltage_percentages, labels=bus_labels, autopct='%1.1f%%', colors=colors, startangle=140)\n",
        "\n",
        "# Equal aspect ratio ensures the pie chart is circular\n",
        "plt.axis('equal')\n",
        "plt.title('Voltage Profiles Across Buses')\n",
        "\n",
        "# Display the chart\n",
        "plt.show()\n"
      ],
      "metadata": {
        "colab": {
          "base_uri": "https://localhost:8080/",
          "height": 521
        },
        "id": "dcx40hKLoKkv",
        "outputId": "962b1142-4e2d-4ef0-f9bb-60bd89dcf211"
      },
      "execution_count": null,
      "outputs": [
        {
          "output_type": "display_data",
          "data": {
            "text/plain": [
              "<Figure size 600x600 with 1 Axes>"
            ],
            "image/png": "[encoded data removed]"
          },
          "metadata": {}
        }
      ]
    },
    {
      "cell_type": "code",
      "source": [],
      "metadata": {
        "id": "BzpHUDLAYdiI"
      },
      "execution_count": null,
      "outputs": []
    }
  ]
}